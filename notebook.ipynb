{
  "cells": [
    {
      "source": [
        "You just got hired as the first and only data practitioner at a small business experiencing exponential growth. The company needs more structured processes, guidelines, and standards. Your first mission is to structure the human resources data. The data is currently scattered across teams and files and comes in various formats: Excel files, CSVs, JSON files...\n",
        "\n",
        "You'll work with the following data in the `datasets` folder:\n",
        "- __Office addresses__ are currently saved in `office_addresses.csv`. If the value for office is `NaN`, then the employee is remote. \n",
        "- __Employee addresses__ are saved on the first tab of `employee_information.xlsx`.\n",
        "- __Employee emergency contacts__ are saved on the second tab of `employee_information.xlsx`; this tab is called `emergency_contacts`. However, this sheet was edited at some point, and the headers were removed! The HR manager let you know that they should be: `employee_id`, `last_name`, `first_name`, `emergency_contact`, `emergency_contact_number`, and `relationship`.\n",
        "- __Employee roles, teams, and salaries__ have been exported from the company's human resources management system into a JSON file titled `employee_roles.json`. Here are the first few lines of that file:\n",
        "```\n",
        "{\"A2R5H9\":\n",
        "  {\n",
        "    \"title\": \"CEO\",\n",
        "    \"monthly_salary\": \"$4500\",\n",
        "    \"team\": \"Leadership\"\n",
        "  },\n",
        " ...\n",
        "}"
      ],
      "metadata": {
        "id": "243a702c-5afc-4606-8163-417b722e76af"
      },
      "cell_type": "markdown",
      "id": "243a702c-5afc-4606-8163-417b722e76af"
    },
    {
      "cell_type": "code",
      "source": [
        "from google.colab import drive\n",
        "drive.mount('/content/drive')"
      ],
      "metadata": {
        "colab": {
          "base_uri": "https://localhost:8080/"
        },
        "id": "Btnt-6hrDgbs",
        "outputId": "df946e3e-7afe-4970-fe36-96f7ee18627e"
      },
      "id": "Btnt-6hrDgbs",
      "execution_count": null,
      "outputs": [
        {
          "output_type": "stream",
          "name": "stdout",
          "text": [
            "Mounted at /content/drive\n"
          ]
        }
      ]
    },
    {
      "source": [
        "# Import pandas\n",
        "import pandas as pd"
      ],
      "metadata": {
        "executionTime": 428,
        "lastSuccessfullyExecutedCode": "# Import pandas\nimport pandas as pd",
        "id": "bd803862-62e2-437d-94f4-d43bdcb55944"
      },
      "cell_type": "code",
      "id": "bd803862-62e2-437d-94f4-d43bdcb55944",
      "execution_count": null,
      "outputs": []
    },
    {
      "source": [
        "<h1>1. LENDO OS ARQUIVOS</h1>"
      ],
      "metadata": {
        "id": "0283c7cc-950b-4b48-9e0b-10c44273124a"
      },
      "cell_type": "markdown",
      "id": "0283c7cc-950b-4b48-9e0b-10c44273124a"
    },
    {
      "source": [
        "office_adresses = pd.read_csv(\"/content/drive/MyDrive/office_addresses (1).csv\")\n",
        "\n",
        "em_addresses = pd.read_excel(\"/content/drive/MyDrive/employee_information.xlsx\", usecols= [\"employee_id\",\"employee_country\",\"employee_city\",\"employee_street\",\"employee_street_number\"])\n",
        "\n",
        "em_emergencycontacts = pd.read_excel(\"/content/drive/MyDrive/employee_information.xlsx\", sheet_name=\"emergency_contacts\",header=None,names=[\"employee_id\", \"last_name\", \"first_name\",\"emergency_contact\", \"emergency_contact_number\", \"relationship\"])\n",
        "\n",
        "em_roles = pd.read_json(\"/content/drive/MyDrive/employee_roles.json\", orient=\"index\")\n",
        "\n"
      ],
      "metadata": {
        "executionTime": 63,
        "lastSuccessfullyExecutedCode": "office_adresses = pd.read_csv(\"datasets/office_addresses.csv\")\n\nem_addresses = pd.read_excel(\"datasets/employee_information.xlsx\")\n\nem_emergencycontacts = pd.read_excel(\"datasets/employee_information.xlsx\")\n\nem_roles = pd.read_json(\"datasets/employee_roles.json\", orient=\"index\")",
        "id": "225a56e9-a4cf-4037-b6ba-7f549bf1c0d9"
      },
      "cell_type": "code",
      "id": "225a56e9-a4cf-4037-b6ba-7f549bf1c0d9",
      "execution_count": null,
      "outputs": []
    },
    {
      "source": [
        "<h1>2. JUNTANDO TODOS EM UM ÚNICO DATASET.</h1>"
      ],
      "metadata": {
        "id": "82fffb41-938d-4cff-baf5-dc354b6bedad"
      },
      "cell_type": "markdown",
      "id": "82fffb41-938d-4cff-baf5-dc354b6bedad"
    },
    {
      "source": [
        "employees = em_addresses.merge(office_adresses, left_on=\"employee_country\", right_on=\"office_country\", how=\"left\")\n",
        "\n",
        "employees = employees.merge(em_roles, left_on=\"employee_id\", right_on=em_roles.index)\n",
        "\n",
        "employees = employees.merge(em_emergencycontacts, on=\"employee_id\")"
      ],
      "metadata": {
        "executionTime": 668,
        "lastSuccessfullyExecutedCode": "employees = em_addresses.merge(office_adresses, left_on=\"employee_country\", right_on=\"office_country\", how=\"left\")\n\nemployees = employees.merge(em_roles, left_on=\"employee_id\", right_on=em_roles.index)\n\nemployees = employees.merge(em_emergencycontacts, on=\"employee_id\")",
        "id": "e5e9d44e-f89c-47d2-893c-c8b3a774a80c"
      },
      "cell_type": "code",
      "id": "e5e9d44e-f89c-47d2-893c-c8b3a774a80c",
      "execution_count": null,
      "outputs": []
    },
    {
      "source": [
        "<h1>3. SUBSTITUINDO O LOCAL DE TRABALHO VAZIO POR \"REMOTO\"</h1>"
      ],
      "metadata": {
        "id": "b2104ee4-027c-472a-ab0a-e37026aa352e"
      },
      "cell_type": "markdown",
      "id": "b2104ee4-027c-472a-ab0a-e37026aa352e"
    },
    {
      "source": [
        "employees = employees.fillna(\"Remote\")"
      ],
      "metadata": {
        "executionTime": 186,
        "lastSuccessfullyExecutedCode": "employees.fillna(\"Remote\")",
        "id": "17f379dc-ab81-4105-b7ce-acf8cfa8c0f3"
      },
      "cell_type": "code",
      "id": "17f379dc-ab81-4105-b7ce-acf8cfa8c0f3",
      "execution_count": null,
      "outputs": []
    },
    {
      "source": [
        "<h1>4. DEFININDO O ID DO COLABORADOR COMO INDEX</h1>"
      ],
      "metadata": {
        "id": "454870a2-1928-4261-b689-178551336e98"
      },
      "cell_type": "markdown",
      "id": "454870a2-1928-4261-b689-178551336e98"
    },
    {
      "source": [
        "employees = employees.set_index(\"employee_id\")"
      ],
      "metadata": {
        "executionTime": 742,
        "lastSuccessfullyExecutedCode": "employees.set_index(\"employee_id\")",
        "id": "a5a91944-b37b-49aa-b745-a7702fcb0299"
      },
      "cell_type": "code",
      "id": "a5a91944-b37b-49aa-b745-a7702fcb0299",
      "execution_count": null,
      "outputs": []
    },
    {
      "source": [
        "<h1>5. REORGANIZANDO COLUNAS NA ORDEM DESEJADA</h1>"
      ],
      "metadata": {
        "id": "e9d7c591-f3eb-4d44-ae36-30b80ecd6c61"
      },
      "cell_type": "markdown",
      "id": "e9d7c591-f3eb-4d44-ae36-30b80ecd6c61"
    },
    {
      "source": [
        "employees = employees.reindex(columns=[\"first_name\",\"last_name\", \"employee_country\", \"employee_city\", \"employee_street\", \"employee_street_number\", \"emergency_contact\", \"emergency_contact_number\", \"relationship\", \"monthly_salary\", \"team\", \"title\", \"office\", \"office_country\", \"office_city\", \"office_street\", \"office_street_number\"])"
      ],
      "metadata": {
        "executionTime": 266,
        "lastSuccessfullyExecutedCode": "employees.reindex(columns=[\"first_name\",\"last_name\", \"employee_country\", \"employee_city\", \"employee_street\", \"employee_street_number\", \"emergency_contact\", \"emergency_contact_number\", \"relationship\", \"monthly_salary\", \"team\", \"title\", \"office\", \"office_country\", \"office_city\", \"office_street\", \"office_street_number\"])",
        "visualizeDataframe": false,
        "chartConfig": {
          "bar": {
            "hasRoundedCorners": true,
            "stacked": false
          },
          "type": "bar",
          "version": "v1"
        },
        "id": "63033be4-2e82-4202-a2a5-07b80c0f7016"
      },
      "cell_type": "code",
      "id": "63033be4-2e82-4202-a2a5-07b80c0f7016",
      "execution_count": null,
      "outputs": []
    },
    {
      "source": [
        "<h1>6. ADICIONANDO TUDO ISSO AO DATA SET COM O NOME DESEJADO</h1>"
      ],
      "metadata": {
        "id": "9d296487-7a70-424e-9bfa-6bcbc45905e3"
      },
      "cell_type": "markdown",
      "id": "9d296487-7a70-424e-9bfa-6bcbc45905e3"
    },
    {
      "source": [
        "employees_final = employees\n",
        "\n",
        "employees_final"
      ],
      "metadata": {
        "executionTime": 0,
        "lastSuccessfullyExecutedCode": "employees_final = employees",
        "colab": {
          "base_uri": "https://localhost:8080/",
          "height": 340
        },
        "id": "cc81a440-bf6e-4ac6-bfe2-e8a50b13ffa8",
        "outputId": "aba90186-b49b-4ecc-e0dc-41d438d078f3"
      },
      "cell_type": "code",
      "id": "cc81a440-bf6e-4ac6-bfe2-e8a50b13ffa8",
      "execution_count": null,
      "outputs": [
        {
          "output_type": "execute_result",
          "data": {
            "text/plain": [
              "            first_name last_name employee_country employee_city  \\\n",
              "employee_id                                                       \n",
              "A2R5H9             Jax    Hunman               BE        Leuven   \n",
              "H8K0L6            Tara      Siff               GB        London   \n",
              "G4R7V0           Gemma     Sagal               US      New-York   \n",
              "M1Z7U9             Tig    Coates               FR         Paris   \n",
              "\n",
              "                 employee_street  employee_street_number emergency_contact  \\\n",
              "employee_id                                                                  \n",
              "A2R5H9               Grote Markt                       9        Opie Hurst   \n",
              "H8K0L6              Baker Street                     221   Wendy de Matteo   \n",
              "G4R7V0              Perry Street                      66      John Newmark   \n",
              "M1Z7U9       Rue de l'Université                       7       Venus Noone   \n",
              "\n",
              "            emergency_contact_number relationship monthly_salary  \\\n",
              "employee_id                                                        \n",
              "A2R5H9               +32-456-5556-84      Brother          $4500   \n",
              "H8K0L6              +44-020-5554-333       Sister          $4500   \n",
              "G4R7V0                +1-202-555-194      Husband          $3000   \n",
              "M1Z7U9               +1-202-555-0130         Wife          $2000   \n",
              "\n",
              "                          team               title         office  \\\n",
              "employee_id                                                         \n",
              "A2R5H9              Leadership                 CEO  Leuven Office   \n",
              "H8K0L6              Leadership                 CFO  WeWork Office   \n",
              "G4R7V0                   Sales  Business Developer     ESB Office   \n",
              "M1Z7U9       People Operations      Office Manager         Remote   \n",
              "\n",
              "            office_country    office_city   office_street office_street_number  \n",
              "employee_id                                                                     \n",
              "A2R5H9                  BE         Leuven  Martelarenlaan                 38.0  \n",
              "H8K0L6                  GB         London      Old Street                207.0  \n",
              "G4R7V0                  US  New York City    Fifth Avenue                350.0  \n",
              "M1Z7U9              Remote         Remote          Remote               Remote  "
            ],
            "text/html": [
              "\n",
              "  <div id=\"df-09f63ea0-c7ff-436e-8a83-eafec6cc7129\">\n",
              "    <div class=\"colab-df-container\">\n",
              "      <div>\n",
              "<style scoped>\n",
              "    .dataframe tbody tr th:only-of-type {\n",
              "        vertical-align: middle;\n",
              "    }\n",
              "\n",
              "    .dataframe tbody tr th {\n",
              "        vertical-align: top;\n",
              "    }\n",
              "\n",
              "    .dataframe thead th {\n",
              "        text-align: right;\n",
              "    }\n",
              "</style>\n",
              "<table border=\"1\" class=\"dataframe\">\n",
              "  <thead>\n",
              "    <tr style=\"text-align: right;\">\n",
              "      <th></th>\n",
              "      <th>first_name</th>\n",
              "      <th>last_name</th>\n",
              "      <th>employee_country</th>\n",
              "      <th>employee_city</th>\n",
              "      <th>employee_street</th>\n",
              "      <th>employee_street_number</th>\n",
              "      <th>emergency_contact</th>\n",
              "      <th>emergency_contact_number</th>\n",
              "      <th>relationship</th>\n",
              "      <th>monthly_salary</th>\n",
              "      <th>team</th>\n",
              "      <th>title</th>\n",
              "      <th>office</th>\n",
              "      <th>office_country</th>\n",
              "      <th>office_city</th>\n",
              "      <th>office_street</th>\n",
              "      <th>office_street_number</th>\n",
              "    </tr>\n",
              "    <tr>\n",
              "      <th>employee_id</th>\n",
              "      <th></th>\n",
              "      <th></th>\n",
              "      <th></th>\n",
              "      <th></th>\n",
              "      <th></th>\n",
              "      <th></th>\n",
              "      <th></th>\n",
              "      <th></th>\n",
              "      <th></th>\n",
              "      <th></th>\n",
              "      <th></th>\n",
              "      <th></th>\n",
              "      <th></th>\n",
              "      <th></th>\n",
              "      <th></th>\n",
              "      <th></th>\n",
              "      <th></th>\n",
              "    </tr>\n",
              "  </thead>\n",
              "  <tbody>\n",
              "    <tr>\n",
              "      <th>A2R5H9</th>\n",
              "      <td>Jax</td>\n",
              "      <td>Hunman</td>\n",
              "      <td>BE</td>\n",
              "      <td>Leuven</td>\n",
              "      <td>Grote Markt</td>\n",
              "      <td>9</td>\n",
              "      <td>Opie Hurst</td>\n",
              "      <td>+32-456-5556-84</td>\n",
              "      <td>Brother</td>\n",
              "      <td>$4500</td>\n",
              "      <td>Leadership</td>\n",
              "      <td>CEO</td>\n",
              "      <td>Leuven Office</td>\n",
              "      <td>BE</td>\n",
              "      <td>Leuven</td>\n",
              "      <td>Martelarenlaan</td>\n",
              "      <td>38.0</td>\n",
              "    </tr>\n",
              "    <tr>\n",
              "      <th>H8K0L6</th>\n",
              "      <td>Tara</td>\n",
              "      <td>Siff</td>\n",
              "      <td>GB</td>\n",
              "      <td>London</td>\n",
              "      <td>Baker Street</td>\n",
              "      <td>221</td>\n",
              "      <td>Wendy de Matteo</td>\n",
              "      <td>+44-020-5554-333</td>\n",
              "      <td>Sister</td>\n",
              "      <td>$4500</td>\n",
              "      <td>Leadership</td>\n",
              "      <td>CFO</td>\n",
              "      <td>WeWork Office</td>\n",
              "      <td>GB</td>\n",
              "      <td>London</td>\n",
              "      <td>Old Street</td>\n",
              "      <td>207.0</td>\n",
              "    </tr>\n",
              "    <tr>\n",
              "      <th>G4R7V0</th>\n",
              "      <td>Gemma</td>\n",
              "      <td>Sagal</td>\n",
              "      <td>US</td>\n",
              "      <td>New-York</td>\n",
              "      <td>Perry Street</td>\n",
              "      <td>66</td>\n",
              "      <td>John Newmark</td>\n",
              "      <td>+1-202-555-194</td>\n",
              "      <td>Husband</td>\n",
              "      <td>$3000</td>\n",
              "      <td>Sales</td>\n",
              "      <td>Business Developer</td>\n",
              "      <td>ESB Office</td>\n",
              "      <td>US</td>\n",
              "      <td>New York City</td>\n",
              "      <td>Fifth Avenue</td>\n",
              "      <td>350.0</td>\n",
              "    </tr>\n",
              "    <tr>\n",
              "      <th>M1Z7U9</th>\n",
              "      <td>Tig</td>\n",
              "      <td>Coates</td>\n",
              "      <td>FR</td>\n",
              "      <td>Paris</td>\n",
              "      <td>Rue de l'Université</td>\n",
              "      <td>7</td>\n",
              "      <td>Venus Noone</td>\n",
              "      <td>+1-202-555-0130</td>\n",
              "      <td>Wife</td>\n",
              "      <td>$2000</td>\n",
              "      <td>People Operations</td>\n",
              "      <td>Office Manager</td>\n",
              "      <td>Remote</td>\n",
              "      <td>Remote</td>\n",
              "      <td>Remote</td>\n",
              "      <td>Remote</td>\n",
              "      <td>Remote</td>\n",
              "    </tr>\n",
              "  </tbody>\n",
              "</table>\n",
              "</div>\n",
              "      <button class=\"colab-df-convert\" onclick=\"convertToInteractive('df-09f63ea0-c7ff-436e-8a83-eafec6cc7129')\"\n",
              "              title=\"Convert this dataframe to an interactive table.\"\n",
              "              style=\"display:none;\">\n",
              "        \n",
              "  <svg xmlns=\"http://www.w3.org/2000/svg\" height=\"24px\"viewBox=\"0 0 24 24\"\n",
              "       width=\"24px\">\n",
              "    <path d=\"M0 0h24v24H0V0z\" fill=\"none\"/>\n",
              "    <path d=\"M18.56 5.44l.94 2.06.94-2.06 2.06-.94-2.06-.94-.94-2.06-.94 2.06-2.06.94zm-11 1L8.5 8.5l.94-2.06 2.06-.94-2.06-.94L8.5 2.5l-.94 2.06-2.06.94zm10 10l.94 2.06.94-2.06 2.06-.94-2.06-.94-.94-2.06-.94 2.06-2.06.94z\"/><path d=\"M17.41 7.96l-1.37-1.37c-.4-.4-.92-.59-1.43-.59-.52 0-1.04.2-1.43.59L10.3 9.45l-7.72 7.72c-.78.78-.78 2.05 0 2.83L4 21.41c.39.39.9.59 1.41.59.51 0 1.02-.2 1.41-.59l7.78-7.78 2.81-2.81c.8-.78.8-2.07 0-2.86zM5.41 20L4 18.59l7.72-7.72 1.47 1.35L5.41 20z\"/>\n",
              "  </svg>\n",
              "      </button>\n",
              "      \n",
              "  <style>\n",
              "    .colab-df-container {\n",
              "      display:flex;\n",
              "      flex-wrap:wrap;\n",
              "      gap: 12px;\n",
              "    }\n",
              "\n",
              "    .colab-df-convert {\n",
              "      background-color: #E8F0FE;\n",
              "      border: none;\n",
              "      border-radius: 50%;\n",
              "      cursor: pointer;\n",
              "      display: none;\n",
              "      fill: #1967D2;\n",
              "      height: 32px;\n",
              "      padding: 0 0 0 0;\n",
              "      width: 32px;\n",
              "    }\n",
              "\n",
              "    .colab-df-convert:hover {\n",
              "      background-color: #E2EBFA;\n",
              "      box-shadow: 0px 1px 2px rgba(60, 64, 67, 0.3), 0px 1px 3px 1px rgba(60, 64, 67, 0.15);\n",
              "      fill: #174EA6;\n",
              "    }\n",
              "\n",
              "    [theme=dark] .colab-df-convert {\n",
              "      background-color: #3B4455;\n",
              "      fill: #D2E3FC;\n",
              "    }\n",
              "\n",
              "    [theme=dark] .colab-df-convert:hover {\n",
              "      background-color: #434B5C;\n",
              "      box-shadow: 0px 1px 3px 1px rgba(0, 0, 0, 0.15);\n",
              "      filter: drop-shadow(0px 1px 2px rgba(0, 0, 0, 0.3));\n",
              "      fill: #FFFFFF;\n",
              "    }\n",
              "  </style>\n",
              "\n",
              "      <script>\n",
              "        const buttonEl =\n",
              "          document.querySelector('#df-09f63ea0-c7ff-436e-8a83-eafec6cc7129 button.colab-df-convert');\n",
              "        buttonEl.style.display =\n",
              "          google.colab.kernel.accessAllowed ? 'block' : 'none';\n",
              "\n",
              "        async function convertToInteractive(key) {\n",
              "          const element = document.querySelector('#df-09f63ea0-c7ff-436e-8a83-eafec6cc7129');\n",
              "          const dataTable =\n",
              "            await google.colab.kernel.invokeFunction('convertToInteractive',\n",
              "                                                     [key], {});\n",
              "          if (!dataTable) return;\n",
              "\n",
              "          const docLinkHtml = 'Like what you see? Visit the ' +\n",
              "            '<a target=\"_blank\" href=https://colab.research.google.com/notebooks/data_table.ipynb>data table notebook</a>'\n",
              "            + ' to learn more about interactive tables.';\n",
              "          element.innerHTML = '';\n",
              "          dataTable['output_type'] = 'display_data';\n",
              "          await google.colab.output.renderOutput(dataTable, element);\n",
              "          const docLink = document.createElement('div');\n",
              "          docLink.innerHTML = docLinkHtml;\n",
              "          element.appendChild(docLink);\n",
              "        }\n",
              "      </script>\n",
              "    </div>\n",
              "  </div>\n",
              "  "
            ]
          },
          "metadata": {},
          "execution_count": 16
        }
      ]
    },
    {
      "cell_type": "markdown",
      "source": [
        "<h1>**PARTE DO MOODLE**</h1>"
      ],
      "metadata": {
        "id": "1LaGimrPMj5y"
      },
      "id": "1LaGimrPMj5y"
    },
    {
      "cell_type": "markdown",
      "source": [
        "<H1>1.QUAL A DISTRIBUIÇAO DE FREQUENCIAS?</H1>"
      ],
      "metadata": {
        "id": "cNzv_bbtM_RH"
      },
      "id": "cNzv_bbtM_RH"
    },
    {
      "cell_type": "code",
      "source": [
        "employees_final.dtypes"
      ],
      "metadata": {
        "colab": {
          "base_uri": "https://localhost:8080/"
        },
        "id": "oRy3tGznM-Yb",
        "outputId": "f0939ce2-df4e-4919-b6a2-c6e91b449e35"
      },
      "id": "oRy3tGznM-Yb",
      "execution_count": null,
      "outputs": [
        {
          "output_type": "execute_result",
          "data": {
            "text/plain": [
              "first_name                  object\n",
              "last_name                   object\n",
              "employee_country            object\n",
              "employee_city               object\n",
              "employee_street             object\n",
              "employee_street_number       int64\n",
              "emergency_contact           object\n",
              "emergency_contact_number    object\n",
              "relationship                object\n",
              "monthly_salary              object\n",
              "team                        object\n",
              "title                       object\n",
              "office                      object\n",
              "office_country              object\n",
              "office_city                 object\n",
              "office_street               object\n",
              "office_street_number        object\n",
              "dtype: object"
            ]
          },
          "metadata": {},
          "execution_count": 17
        }
      ]
    },
    {
      "cell_type": "code",
      "source": [
        "#Categoricas\n",
        "cat = [\"employee_country\",\"employee_city\",\"employee_street\",\"employee_street_number\",\"emergency_contact\",\"emergency_contact_number\",\"relationship\",\"team\",\"title\",\"office\",\"office_country\",\"office_city\",\"office_street\",\"office_street_number\"]\n",
        "employees_final[cat]= employees_final[cat].astype(\"category\")\n",
        "\n",
        "freq = employees_final[cat].value_counts()\n",
        "print(freq)\n",
        "\n",
        "\n",
        "#Quantitativas\n",
        "quant = [\"monthly_salary\"]\n",
        "    \n",
        "#employees_final[\"monthly_salary\"] = employees_final[\"monthly_salary\"].str[1:].astype(\"float64\")\n",
        "quantitativas = employees_final[\"monthly_salary\"].value_counts()\n"
      ],
      "metadata": {
        "colab": {
          "base_uri": "https://localhost:8080/"
        },
        "id": "epl6YmSgVKqQ",
        "outputId": "ff028585-7c9c-45be-8c91-ec5006a70c11"
      },
      "id": "epl6YmSgVKqQ",
      "execution_count": null,
      "outputs": [
        {
          "output_type": "stream",
          "name": "stdout",
          "text": [
            "employee_country  employee_city  employee_street      employee_street_number  emergency_contact  emergency_contact_number  relationship  team               title               office         office_country  office_city    office_street   office_street_number\n",
            "BE                Leuven         Grote Markt          9                       Opie Hurst         +32-456-5556-84           Brother       Leadership         CEO                 Leuven Office  BE              Leuven         Martelarenlaan  38.0                    1\n",
            "FR                Paris          Rue de l'Université  7                       Venus Noone        +1-202-555-0130           Wife          People Operations  Office Manager      Remote         Remote          Remote         Remote          Remote                  1\n",
            "GB                London         Baker Street         221                     Wendy de Matteo    +44-020-5554-333          Sister        Leadership         CFO                 WeWork Office  GB              London         Old Street      207.0                   1\n",
            "US                New-York       Perry Street         66                      John Newmark       +1-202-555-194            Husband       Sales              Business Developer  ESB Office     US              New York City  Fifth Avenue    350.0                   1\n",
            "dtype: int64\n"
          ]
        }
      ]
    },
    {
      "cell_type": "code",
      "source": [
        "monthly_salary = employees_final[\"monthly_salary\"]\n",
        "monthly_salary = monthly_salary.value_counts(normalize= True)*100\n",
        "monthly_salary.plot.bar()\n",
        "\n"
      ],
      "metadata": {
        "colab": {
          "base_uri": "https://localhost:8080/",
          "height": 477
        },
        "id": "k_b15Eg8Dwi5",
        "outputId": "1717952d-22f9-40f3-ef8a-9f5ece72daff"
      },
      "id": "k_b15Eg8Dwi5",
      "execution_count": null,
      "outputs": [
        {
          "output_type": "execute_result",
          "data": {
            "text/plain": [
              "<Axes: >"
            ]
          },
          "metadata": {},
          "execution_count": 30
        },
        {
          "output_type": "display_data",
          "data": {
            "text/plain": [
              "<Figure size 640x480 with 1 Axes>"
            ],
            "image/png": "[encoded data removed]"
          },
          "metadata": {}
        }
      ]
    },
    {
      "cell_type": "code",
      "source": [
        "emloyee_city = employees_final[\"employee_city\"]\n",
        "emloyee_city = emloyee_city.value_counts(normalize= True)*100\n",
        "emloyee_city.plot.bar()"
      ],
      "metadata": {
        "colab": {
          "base_uri": "https://localhost:8080/",
          "height": 495
        },
        "id": "BA3sDq67z2Xh",
        "outputId": "05fee10a-222b-4669-8cea-3f49bd4e2aa2"
      },
      "id": "BA3sDq67z2Xh",
      "execution_count": null,
      "outputs": [
        {
          "output_type": "execute_result",
          "data": {
            "text/plain": [
              "<Axes: >"
            ]
          },
          "metadata": {},
          "execution_count": 24
        },
        {
          "output_type": "display_data",
          "data": {
            "text/plain": [
              "<Figure size 640x480 with 1 Axes>"
            ],
            "image/png": "[encoded data removed]"
          },
          "metadata": {}
        }
      ]
    },
    {
      "cell_type": "code",
      "source": [
        "employee_country = employees_final[\"employee_country\"]\n",
        "employee_country = employee_country.value_counts(normalize= True)*100\n",
        "employee_country.plot.bar()"
      ],
      "metadata": {
        "colab": {
          "base_uri": "https://localhost:8080/",
          "height": 453
        },
        "id": "cxWYEcLfCbZC",
        "outputId": "58b3af93-c9da-4cf1-f251-4cd64cca90ae"
      },
      "id": "cxWYEcLfCbZC",
      "execution_count": null,
      "outputs": [
        {
          "output_type": "execute_result",
          "data": {
            "text/plain": [
              "<Axes: >"
            ]
          },
          "metadata": {},
          "execution_count": 25
        },
        {
          "output_type": "display_data",
          "data": {
            "text/plain": [
              "<Figure size 640x480 with 1 Axes>"
            ],
            "image/png": "[encoded data removed]"
          },
          "metadata": {}
        }
      ]
    },
    {
      "cell_type": "code",
      "source": [
        "team = employees_final[\"team\"]\n",
        "team = team.value_counts(normalize= True)*100\n",
        "team.plot.bar()"
      ],
      "metadata": {
        "colab": {
          "base_uri": "https://localhost:8080/",
          "height": 560
        },
        "id": "uegFPhS1Cu2Y",
        "outputId": "6e9a2263-7cf7-428e-a8b8-e15eb63c77e3"
      },
      "id": "uegFPhS1Cu2Y",
      "execution_count": null,
      "outputs": [
        {
          "output_type": "execute_result",
          "data": {
            "text/plain": [
              "<Axes: >"
            ]
          },
          "metadata": {},
          "execution_count": 27
        },
        {
          "output_type": "display_data",
          "data": {
            "text/plain": [
              "<Figure size 640x480 with 1 Axes>"
            ],
            "image/png": "[encoded data removed]"
          },
          "metadata": {}
        }
      ]
    },
    {
      "cell_type": "code",
      "source": [
        "relationship = employees_final[\"relationship\"]\n",
        "relationship = relationship.value_counts(normalize= True)*100\n",
        "relationship.plot.bar()"
      ],
      "metadata": {
        "colab": {
          "base_uri": "https://localhost:8080/",
          "height": 494
        },
        "id": "sNvfoAR1Dagn",
        "outputId": "f85d0a18-5188-4c14-cba6-e973465d57db"
      },
      "id": "sNvfoAR1Dagn",
      "execution_count": null,
      "outputs": [
        {
          "output_type": "execute_result",
          "data": {
            "text/plain": [
              "<Axes: >"
            ]
          },
          "metadata": {},
          "execution_count": 28
        },
        {
          "output_type": "display_data",
          "data": {
            "text/plain": [
              "<Figure size 640x480 with 1 Axes>"
            ],
            "image/png": "[encoded data removed]"
          },
          "metadata": {}
        }
      ]
    },
    {
      "cell_type": "markdown",
      "source": [
        "<h1>3. PERGUNTAS QUE PODEM SER RESPONDIDAS:</h1>\n",
        "<OL>\n",
        "  <LI>Qual a média salarial com base em Cidade ou Estado</LI>\n",
        "  <LI>Qual o salário com base no cargo.</LI>\n",
        "  <LI>Qual a porcentagens de colaboradores trabalham em HomeOffice</LI>\n",
        "</OL>"
      ],
      "metadata": {
        "id": "wGxUbbGfb9pQ"
      },
      "id": "wGxUbbGfb9pQ"
    }
  ],
  "metadata": {
    "colab": {
      "provenance": []
    },
    "kernelspec": {
      "display_name": "Python 3 (ipykernel)",
      "language": "python",
      "name": "python3"
    },
    "language_info": {
      "codemirror_mode": {
        "name": "ipython",
        "version": 3
      },
      "file_extension": ".py",
      "mimetype": "text/x-python",
      "name": "python",
      "nbconvert_exporter": "python",
      "pygments_lexer": "ipython3",
      "version": "3.8.10"
    }
  },
  "nbformat": 4,
  "nbformat_minor": 5
}